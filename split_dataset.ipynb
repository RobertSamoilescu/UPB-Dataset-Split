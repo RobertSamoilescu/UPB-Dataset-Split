{
 "cells": [
  {
   "cell_type": "code",
   "execution_count": 1,
   "metadata": {},
   "outputs": [],
   "source": [
    "%load_ext autoreload\n",
    "%autoreload 2\n",
    "import numpy as np\n",
    "import pandas as pd\n",
    "import json\n",
    "import cv2\n",
    "import matplotlib\n",
    "import matplotlib.pyplot as plt\n",
    "from plot_gps import *\n",
    "from tqdm import tqdm\n"
   ]
  },
  {
   "cell_type": "code",
   "execution_count": 2,
   "metadata": {},
   "outputs": [
    {
     "name": "stderr",
     "output_type": "stream",
     "text": [
      "100%|██████████| 408/408 [01:03<00:00,  6.40it/s]\n"
     ]
    }
   ],
   "source": [
    "map_path=\"./map/high_res_full_UPB_standard.png\"\n",
    "csv_path=\"./map/high_res_full_UPB_standard.csv\"\n",
    "map_viewer = ImageWgsHandler(map_path, csv_path)\n",
    "\n",
    "# get jsons files\n",
    "path_jsons = \"PATH/TO/RAW/DATASET/DIR (has to contains .json files)\"\n",
    "jsons = os.listdir(path_jsons)\n",
    "jsons = [file for file in jsons if file.endswith(\".json\")]\n",
    "\n",
    "\n",
    "Es, Ns = [], []\n",
    "for path_file in tqdm(jsons):\n",
    "    with open(os.path.join(path_jsons, path_file)) as f:\n",
    "        info = json.load(f)\n",
    "\n",
    "    gps_unique = pd.DataFrame(info[\"locations\"])\n",
    "    easting, northing = gps_unique.easting.values, gps_unique.northing.values\n",
    "    \n",
    "    Ns += list(northing)\n",
    "    Es += list(easting)\n",
    "    "
   ]
  },
  {
   "cell_type": "code",
   "execution_count": 3,
   "metadata": {},
   "outputs": [],
   "source": [
    "def split_squares(S):\n",
    "    Nmin, Nmax = S[0]\n",
    "    Emin, Emax = S[1]\n",
    "    \n",
    "    # get central point\n",
    "    Nctrl, Ectrl = (Nmin + Nmax)/2, (Emin + Emax)/2\n",
    "\n",
    "    # define the 4 squares\n",
    "    S1 = [(Nmin, Nctrl), (Emin, Ectrl)]\n",
    "    S2 = [(Nmin, Nctrl), (Ectrl, Emax)]\n",
    "    S3 = [(Nctrl, Nmax), (Emin, Ectrl)]\n",
    "    S4 = [(Nctrl, Nmax), (Ectrl, Emax)]\n",
    "    return [S1, S2, S3, S4]"
   ]
  },
  {
   "cell_type": "code",
   "execution_count": 4,
   "metadata": {},
   "outputs": [],
   "source": [
    "def in_square(easting, northing, S):\n",
    "    cond1 = (easting >= S[1][0]) & (easting <= S[1][1])\n",
    "    cond2 = (northing >= S[0][0]) & (northing <= S[0][1])\n",
    "    cond = cond1 & cond2\n",
    "    return np.mean(cond)        "
   ]
  },
  {
   "cell_type": "code",
   "execution_count": 5,
   "metadata": {},
   "outputs": [],
   "source": [
    "def get_procs(S, jsons):\n",
    "    files = [[], [], [], []]\n",
    "    counts = [0, 0, 0, 0]\n",
    "    Ss = split_squares(S)\n",
    "\n",
    "    for file_name in tqdm(jsons):\n",
    "        # read josn\n",
    "        with open(os.path.join(path_jsons, file_name)) as f:\n",
    "            info = json.load(f)\n",
    "\n",
    "        # get coordinates\n",
    "        gps_unique = pd.DataFrame(info[\"locations\"])\n",
    "        easting, northing = gps_unique.easting.values, gps_unique.northing.values\n",
    "\n",
    "        # compute overlap with each square\n",
    "        procs = []\n",
    "        for S in Ss:\n",
    "            procs.append(in_square(easting, northing, S))\n",
    "\n",
    "        index = np.argmax(procs)\n",
    "        counts[index] += 1\n",
    "        files[index].append(file_name)\n",
    "        \n",
    "    return Ss, counts, files"
   ]
  },
  {
   "cell_type": "code",
   "execution_count": 6,
   "metadata": {},
   "outputs": [
    {
     "name": "stderr",
     "output_type": "stream",
     "text": [
      "100%|██████████| 408/408 [00:26<00:00, 15.48it/s]"
     ]
    },
    {
     "name": "stdout",
     "output_type": "stream",
     "text": [
      "[195, 163, 7, 43]\n"
     ]
    },
    {
     "name": "stderr",
     "output_type": "stream",
     "text": [
      "\n"
     ]
    }
   ],
   "source": [
    "# get extreme points\n",
    "Nmin, Nmax = np.min(Ns), np.max(Ns)\n",
    "Emin, Emax = np.min(Es), np.max(Es)\n",
    "S = [(Nmin, Nmax), (Emin, Emax)]\n",
    "Ss, counts, files = get_procs(S, jsons)\n",
    "print(counts)"
   ]
  },
  {
   "cell_type": "code",
   "execution_count": 7,
   "metadata": {},
   "outputs": [
    {
     "name": "stderr",
     "output_type": "stream",
     "text": [
      "100%|██████████| 163/163 [00:10<00:00, 15.90it/s]"
     ]
    },
    {
     "name": "stdout",
     "output_type": "stream",
     "text": [
      "[66, 0, 66, 31]\n"
     ]
    },
    {
     "name": "stderr",
     "output_type": "stream",
     "text": [
      "\n"
     ]
    }
   ],
   "source": [
    "Ss2, counts2, files2 = get_procs(Ss[1], files[1])\n",
    "print(counts2)"
   ]
  },
  {
   "cell_type": "code",
   "execution_count": 8,
   "metadata": {},
   "outputs": [
    {
     "name": "stdout",
     "output_type": "stream",
     "text": [
      "Train: 327, Test: 81\n",
      "\n"
     ]
    }
   ],
   "source": [
    "test_jsons = set(files[2] + files[3] + files2[3])\n",
    "train_jsons = set(jsons).difference(test_jsons)\n",
    "\n",
    "test_jsons = list(test_jsons)\n",
    "train_jsons = list(train_jsons)\n",
    "print(\"Train: %d, Test: %d\\n\" % (len(train_jsons), len(test_jsons)))"
   ]
  },
  {
   "cell_type": "code",
   "execution_count": 10,
   "metadata": {},
   "outputs": [],
   "source": [
    "def plot_traj(jsons, train=True):\n",
    "    Es, Ns = [], []\n",
    "    for path_file in tqdm(jsons):\n",
    "        with open(os.path.join(path_jsons, path_file)) as f:\n",
    "            info = json.load(f)\n",
    "\n",
    "        gps_unique = pd.DataFrame(info[\"locations\"])\n",
    "        easting, northing = gps_unique.easting.values, gps_unique.northing.values\n",
    "\n",
    "        Ns += list(northing)\n",
    "        Es += list(easting)\n",
    "        \n",
    "    Ns = np.array(Ns)\n",
    "    Es = np.array(Es)\n",
    "    \n",
    "    # plot coordinates\n",
    "    map_path=\"./map/high_res_full_UPB_standard.png\"\n",
    "    csv_path=\"./map/high_res_full_UPB_standard.csv\"\n",
    "    map_viewer = ImageWgsHandler(map_path, csv_path)\n",
    "    rows, cols = map_viewer.get_image_coord(Es, Ns)\n",
    "    \n",
    "    map_image = map_viewer.map_image.copy()\n",
    "    color = (255, 0, 0) if train else (0, 0, 255)\n",
    "    \n",
    "    for i in tqdm(range(len(rows))):\n",
    "        center = (int(cols[i]), int(rows[i]))\n",
    "        map_image = cv2.circle(map_image, center, radius=20, color=color, thickness=-1)\n",
    "    \n",
    "    cv2.imwrite(\"%s.png\" % (os.path.join(\"imgs\", (\"train\" if train else \"test\"))), map_image)"
   ]
  },
  {
   "cell_type": "code",
   "execution_count": 11,
   "metadata": {},
   "outputs": [
    {
     "name": "stderr",
     "output_type": "stream",
     "text": [
      "100%|██████████| 327/327 [00:20<00:00, 15.81it/s]\n",
      "100%|██████████| 1513267/1513267 [00:05<00:00, 267248.18it/s]\n"
     ]
    }
   ],
   "source": [
    "# plot train\n",
    "plot_traj(train_jsons, train=True)"
   ]
  },
  {
   "cell_type": "code",
   "execution_count": 12,
   "metadata": {},
   "outputs": [
    {
     "name": "stderr",
     "output_type": "stream",
     "text": [
      "100%|██████████| 81/81 [00:05<00:00, 15.71it/s]\n",
      "100%|██████████| 380491/380491 [00:01<00:00, 254097.58it/s]\n"
     ]
    }
   ],
   "source": [
    "# plot test\n",
    "plot_traj(test_jsons, train=False)"
   ]
  },
  {
   "cell_type": "code",
   "execution_count": 13,
   "metadata": {},
   "outputs": [],
   "source": [
    "# export train & test split\n",
    "train_scenes = [file[:-5] for file in train_jsons]\n",
    "test_scenes = [file[:-5] for file in test_jsons]\n",
    "\n",
    "with open(os.path.join(\"split\", \"train_scenes.txt\"), \"wt\") as fout:\n",
    "    fout.write(\"\\n\".join(train_scenes))\n",
    "\n",
    "with open(os.path.join(\"split\", \"test_scenes.txt\"), \"wt\") as fout:\n",
    "    fout.write(\"\\n\".join(test_scenes))"
   ]
  },
  {
   "cell_type": "code",
   "execution_count": 23,
   "metadata": {},
   "outputs": [
    {
     "data": {
      "image/png": "[encoded data removed]",
      "text/plain": [
       "<Figure size 432x288 with 1 Axes>"
      ]
     },
     "metadata": {
      "needs_background": "light"
     },
     "output_type": "display_data"
    }
   ],
   "source": [
    "# combine train & test to check overlap\n",
    "train = cv2.imread(\"imgs/train.png\")\n",
    "test = cv2.imread(\"imgs/test.png\")\n",
    "\n",
    "cmb = train//2 + test//2\n",
    "cv2.imwrite(\"imgs/train_test_split.png\", cmb)\n",
    "\n",
    "small_cmb = cv2.resize(cmb, dsize=None, fx=0.05, fy=0.05)\n",
    "plt.imshow(small_cmb[...,::-1])\n",
    "plt.show()"
   ]
  },
  {
   "cell_type": "code",
   "execution_count": null,
   "metadata": {},
   "outputs": [],
   "source": []
  }
 ],
 "metadata": {
  "kernelspec": {
   "display_name": "Python 3",
   "language": "python",
   "name": "python3"
  },
  "language_info": {
   "codemirror_mode": {
    "name": "ipython",
    "version": 3
   },
   "file_extension": ".py",
   "mimetype": "text/x-python",
   "name": "python",
   "nbconvert_exporter": "python",
   "pygments_lexer": "ipython3",
   "version": "3.6.9"
  }
 },
 "nbformat": 4,
 "nbformat_minor": 2
}
